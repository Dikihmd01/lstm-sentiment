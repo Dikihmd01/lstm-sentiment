{
  "nbformat": 4,
  "nbformat_minor": 0,
  "metadata": {
    "colab": {
      "provenance": []
    },
    "kernelspec": {
      "name": "python3",
      "display_name": "Python 3"
    },
    "language_info": {
      "name": "python"
    }
  },
  "cells": [
    {
      "cell_type": "markdown",
      "source": [
        "# Instal librarry Google Play Scrapper"
      ],
      "metadata": {
        "id": "DU-RGcmiG0rz"
      }
    },
    {
      "cell_type": "code",
      "execution_count": null,
      "metadata": {
        "colab": {
          "base_uri": "https://localhost:8080/"
        },
        "id": "py0ESWVFBgPm",
        "outputId": "21a7ce56-e062-4897-a748-f0913b02f6f1"
      },
      "outputs": [
        {
          "output_type": "stream",
          "name": "stdout",
          "text": [
            "Looking in indexes: https://pypi.org/simple, https://us-python.pkg.dev/colab-wheels/public/simple/\n",
            "Collecting google-play-scraper\n",
            "  Downloading google_play_scraper-1.2.3-py3-none-any.whl (28 kB)\n",
            "Installing collected packages: google-play-scraper\n",
            "Successfully installed google-play-scraper-1.2.3\n"
          ]
        }
      ],
      "source": [
        "!pip install google-play-scraper"
      ]
    },
    {
      "cell_type": "markdown",
      "source": [
        "# Import Libraries"
      ],
      "metadata": {
        "id": "e4uQR_BcG5uf"
      }
    },
    {
      "cell_type": "code",
      "source": [
        "from google_play_scraper import app, Sort, reviews_all\n",
        "from datetime import date\n",
        "\n",
        "import pandas as pd\n",
        "import numpy as np"
      ],
      "metadata": {
        "id": "8Lvv4FmLCUL0"
      },
      "execution_count": null,
      "outputs": []
    },
    {
      "cell_type": "markdown",
      "source": [
        "# Connect to Google Drive"
      ],
      "metadata": {
        "id": "A85VIi4GG8sd"
      }
    },
    {
      "cell_type": "code",
      "source": [
        "from google.colab import drive\n",
        "drive.mount('/content/gdrive')"
      ],
      "metadata": {
        "colab": {
          "base_uri": "https://localhost:8080/"
        },
        "id": "Tw2JELebFLMr",
        "outputId": "42106040-0715-485c-9ff8-82f5dfd3a554"
      },
      "execution_count": null,
      "outputs": [
        {
          "output_type": "stream",
          "name": "stdout",
          "text": [
            "Mounted at /content/gdrive\n"
          ]
        }
      ]
    },
    {
      "cell_type": "markdown",
      "source": [
        "# Get Reviews from Detik.com Application on Goole Play Store"
      ],
      "metadata": {
        "id": "Hy2FuCvUHAFY"
      }
    },
    {
      "cell_type": "code",
      "source": [
        "reviews = reviews_all(\n",
        "    'org.detikcom.rss',\n",
        "    sleep_milliseconds=0,\n",
        "    lang='id',\n",
        "    country='id',\n",
        "    sort=Sort.NEWEST\n",
        ")"
      ],
      "metadata": {
        "id": "eHcBqO2QCbxi"
      },
      "execution_count": null,
      "outputs": []
    },
    {
      "cell_type": "code",
      "source": [
        "len(reviews)"
      ],
      "metadata": {
        "colab": {
          "base_uri": "https://localhost:8080/"
        },
        "id": "gKAU_4e2D12D",
        "outputId": "d7ddafc5-7d81-4d87-96e7-7b2477220f3b"
      },
      "execution_count": null,
      "outputs": [
        {
          "output_type": "execute_result",
          "data": {
            "text/plain": [
              "65186"
            ]
          },
          "metadata": {},
          "execution_count": 6
        }
      ]
    },
    {
      "cell_type": "code",
      "source": [
        "reviews_en = reviews_all(\n",
        "    'org.detikcom.rss',\n",
        "    sleep_milliseconds=0,\n",
        "    lang='en',\n",
        "    country='id',\n",
        "    sort=Sort.NEWEST\n",
        ")"
      ],
      "metadata": {
        "id": "n8Jn2Iv-qdtE"
      },
      "execution_count": null,
      "outputs": []
    },
    {
      "cell_type": "code",
      "source": [
        "len(reviews_en)"
      ],
      "metadata": {
        "colab": {
          "base_uri": "https://localhost:8080/"
        },
        "id": "BJySW5FLqrnv",
        "outputId": "46da8005-3916-44ed-858d-440582714c02"
      },
      "execution_count": null,
      "outputs": [
        {
          "output_type": "execute_result",
          "data": {
            "text/plain": [
              "24244"
            ]
          },
          "metadata": {},
          "execution_count": 56
        }
      ]
    },
    {
      "cell_type": "markdown",
      "source": [
        "# Collected Data"
      ],
      "metadata": {
        "id": "XuFrIcqTHJGD"
      }
    },
    {
      "cell_type": "code",
      "source": [
        "df_reviews = pd.DataFrame(np.array(reviews), columns=['reviews'])\n",
        "df_reviews = df_reviews.join(pd.DataFrame(df_reviews.pop('reviews').tolist()))\n",
        "dataset = df_reviews[['reviewId', 'userName', 'content']]\n",
        "dataset.head()"
      ],
      "metadata": {
        "colab": {
          "base_uri": "https://localhost:8080/",
          "height": 206
        },
        "id": "dEBKiO5vD7A4",
        "outputId": "4f6d1aff-e1bf-42cd-8ec8-6b06560fb9c2"
      },
      "execution_count": null,
      "outputs": [
        {
          "output_type": "execute_result",
          "data": {
            "text/plain": [
              "                               reviewId         userName  \\\n",
              "0  bd76e50b-5a22-409f-bb9f-9cf864017fc0    Alamul Alamul   \n",
              "1  0a2451d6-8e24-4091-afcb-67fce5f5bff2   Cucuk Furianto   \n",
              "2  0024b8b7-3276-41d9-8358-cae72b57ad4f  Benny Wicaksono   \n",
              "3  6aeef148-f45f-498d-a2c0-5a4554193ccd    Admin Sadulur   \n",
              "4  c1f3004f-3e89-4902-b9c8-8923f957d6c2       Aji Brewok   \n",
              "\n",
              "                                             content  \n",
              "0                                        Berita baik  \n",
              "1                                             Mantap  \n",
              "2  Selalu yg terdepan dan terupdate di Indonesia....  \n",
              "3                                             Siplaj  \n",
              "4                Mantap,. Berita nya lugas dan detil  "
            ],
            "text/html": [
              "\n",
              "  <div id=\"df-85a91779-3ac1-4f78-b3c9-0f04587ab480\">\n",
              "    <div class=\"colab-df-container\">\n",
              "      <div>\n",
              "<style scoped>\n",
              "    .dataframe tbody tr th:only-of-type {\n",
              "        vertical-align: middle;\n",
              "    }\n",
              "\n",
              "    .dataframe tbody tr th {\n",
              "        vertical-align: top;\n",
              "    }\n",
              "\n",
              "    .dataframe thead th {\n",
              "        text-align: right;\n",
              "    }\n",
              "</style>\n",
              "<table border=\"1\" class=\"dataframe\">\n",
              "  <thead>\n",
              "    <tr style=\"text-align: right;\">\n",
              "      <th></th>\n",
              "      <th>reviewId</th>\n",
              "      <th>userName</th>\n",
              "      <th>content</th>\n",
              "    </tr>\n",
              "  </thead>\n",
              "  <tbody>\n",
              "    <tr>\n",
              "      <th>0</th>\n",
              "      <td>bd76e50b-5a22-409f-bb9f-9cf864017fc0</td>\n",
              "      <td>Alamul Alamul</td>\n",
              "      <td>Berita baik</td>\n",
              "    </tr>\n",
              "    <tr>\n",
              "      <th>1</th>\n",
              "      <td>0a2451d6-8e24-4091-afcb-67fce5f5bff2</td>\n",
              "      <td>Cucuk Furianto</td>\n",
              "      <td>Mantap</td>\n",
              "    </tr>\n",
              "    <tr>\n",
              "      <th>2</th>\n",
              "      <td>0024b8b7-3276-41d9-8358-cae72b57ad4f</td>\n",
              "      <td>Benny Wicaksono</td>\n",
              "      <td>Selalu yg terdepan dan terupdate di Indonesia....</td>\n",
              "    </tr>\n",
              "    <tr>\n",
              "      <th>3</th>\n",
              "      <td>6aeef148-f45f-498d-a2c0-5a4554193ccd</td>\n",
              "      <td>Admin Sadulur</td>\n",
              "      <td>Siplaj</td>\n",
              "    </tr>\n",
              "    <tr>\n",
              "      <th>4</th>\n",
              "      <td>c1f3004f-3e89-4902-b9c8-8923f957d6c2</td>\n",
              "      <td>Aji Brewok</td>\n",
              "      <td>Mantap,. Berita nya lugas dan detil</td>\n",
              "    </tr>\n",
              "  </tbody>\n",
              "</table>\n",
              "</div>\n",
              "      <button class=\"colab-df-convert\" onclick=\"convertToInteractive('df-85a91779-3ac1-4f78-b3c9-0f04587ab480')\"\n",
              "              title=\"Convert this dataframe to an interactive table.\"\n",
              "              style=\"display:none;\">\n",
              "        \n",
              "  <svg xmlns=\"http://www.w3.org/2000/svg\" height=\"24px\"viewBox=\"0 0 24 24\"\n",
              "       width=\"24px\">\n",
              "    <path d=\"M0 0h24v24H0V0z\" fill=\"none\"/>\n",
              "    <path d=\"M18.56 5.44l.94 2.06.94-2.06 2.06-.94-2.06-.94-.94-2.06-.94 2.06-2.06.94zm-11 1L8.5 8.5l.94-2.06 2.06-.94-2.06-.94L8.5 2.5l-.94 2.06-2.06.94zm10 10l.94 2.06.94-2.06 2.06-.94-2.06-.94-.94-2.06-.94 2.06-2.06.94z\"/><path d=\"M17.41 7.96l-1.37-1.37c-.4-.4-.92-.59-1.43-.59-.52 0-1.04.2-1.43.59L10.3 9.45l-7.72 7.72c-.78.78-.78 2.05 0 2.83L4 21.41c.39.39.9.59 1.41.59.51 0 1.02-.2 1.41-.59l7.78-7.78 2.81-2.81c.8-.78.8-2.07 0-2.86zM5.41 20L4 18.59l7.72-7.72 1.47 1.35L5.41 20z\"/>\n",
              "  </svg>\n",
              "      </button>\n",
              "      \n",
              "  <style>\n",
              "    .colab-df-container {\n",
              "      display:flex;\n",
              "      flex-wrap:wrap;\n",
              "      gap: 12px;\n",
              "    }\n",
              "\n",
              "    .colab-df-convert {\n",
              "      background-color: #E8F0FE;\n",
              "      border: none;\n",
              "      border-radius: 50%;\n",
              "      cursor: pointer;\n",
              "      display: none;\n",
              "      fill: #1967D2;\n",
              "      height: 32px;\n",
              "      padding: 0 0 0 0;\n",
              "      width: 32px;\n",
              "    }\n",
              "\n",
              "    .colab-df-convert:hover {\n",
              "      background-color: #E2EBFA;\n",
              "      box-shadow: 0px 1px 2px rgba(60, 64, 67, 0.3), 0px 1px 3px 1px rgba(60, 64, 67, 0.15);\n",
              "      fill: #174EA6;\n",
              "    }\n",
              "\n",
              "    [theme=dark] .colab-df-convert {\n",
              "      background-color: #3B4455;\n",
              "      fill: #D2E3FC;\n",
              "    }\n",
              "\n",
              "    [theme=dark] .colab-df-convert:hover {\n",
              "      background-color: #434B5C;\n",
              "      box-shadow: 0px 1px 3px 1px rgba(0, 0, 0, 0.15);\n",
              "      filter: drop-shadow(0px 1px 2px rgba(0, 0, 0, 0.3));\n",
              "      fill: #FFFFFF;\n",
              "    }\n",
              "  </style>\n",
              "\n",
              "      <script>\n",
              "        const buttonEl =\n",
              "          document.querySelector('#df-85a91779-3ac1-4f78-b3c9-0f04587ab480 button.colab-df-convert');\n",
              "        buttonEl.style.display =\n",
              "          google.colab.kernel.accessAllowed ? 'block' : 'none';\n",
              "\n",
              "        async function convertToInteractive(key) {\n",
              "          const element = document.querySelector('#df-85a91779-3ac1-4f78-b3c9-0f04587ab480');\n",
              "          const dataTable =\n",
              "            await google.colab.kernel.invokeFunction('convertToInteractive',\n",
              "                                                     [key], {});\n",
              "          if (!dataTable) return;\n",
              "\n",
              "          const docLinkHtml = 'Like what you see? Visit the ' +\n",
              "            '<a target=\"_blank\" href=https://colab.research.google.com/notebooks/data_table.ipynb>data table notebook</a>'\n",
              "            + ' to learn more about interactive tables.';\n",
              "          element.innerHTML = '';\n",
              "          dataTable['output_type'] = 'display_data';\n",
              "          await google.colab.output.renderOutput(dataTable, element);\n",
              "          const docLink = document.createElement('div');\n",
              "          docLink.innerHTML = docLinkHtml;\n",
              "          element.appendChild(docLink);\n",
              "        }\n",
              "      </script>\n",
              "    </div>\n",
              "  </div>\n",
              "  "
            ]
          },
          "metadata": {},
          "execution_count": 7
        }
      ]
    },
    {
      "cell_type": "code",
      "source": [
        "dataset.tail()"
      ],
      "metadata": {
        "colab": {
          "base_uri": "https://localhost:8080/",
          "height": 206
        },
        "id": "5Sbdd_6LcsD9",
        "outputId": "5231fc9c-fdee-49c5-9a58-1e7178a75ef6"
      },
      "execution_count": null,
      "outputs": [
        {
          "output_type": "execute_result",
          "data": {
            "text/plain": [
              "                                   reviewId         userName  \\\n",
              "65181  76b36ab5-d090-4197-bed9-129b040ffe66  Pengguna Google   \n",
              "65182  a87fe15e-0e07-42b3-a7a0-d1bf700ea285  Pengguna Google   \n",
              "65183  46e36186-b5ac-45dd-908c-2ba2a7b3e412  Pengguna Google   \n",
              "65184  e4d181bf-0ef5-450a-a146-561b577b996b  Pengguna Google   \n",
              "65185  11f96544-a5c7-4620-a0e0-74916df21506  Pengguna Google   \n",
              "\n",
              "                                                 content  \n",
              "65181                                               Good  \n",
              "65182                              Very good .....try it  \n",
              "65183                                    manteeeeeeep...  \n",
              "65184  Fitur Widget Widgetnya dikembanging lagi donk,...  \n",
              "65185                                        Thx detik..  "
            ],
            "text/html": [
              "\n",
              "  <div id=\"df-6c871b02-c23d-4372-a0df-b2ca97765791\">\n",
              "    <div class=\"colab-df-container\">\n",
              "      <div>\n",
              "<style scoped>\n",
              "    .dataframe tbody tr th:only-of-type {\n",
              "        vertical-align: middle;\n",
              "    }\n",
              "\n",
              "    .dataframe tbody tr th {\n",
              "        vertical-align: top;\n",
              "    }\n",
              "\n",
              "    .dataframe thead th {\n",
              "        text-align: right;\n",
              "    }\n",
              "</style>\n",
              "<table border=\"1\" class=\"dataframe\">\n",
              "  <thead>\n",
              "    <tr style=\"text-align: right;\">\n",
              "      <th></th>\n",
              "      <th>reviewId</th>\n",
              "      <th>userName</th>\n",
              "      <th>content</th>\n",
              "    </tr>\n",
              "  </thead>\n",
              "  <tbody>\n",
              "    <tr>\n",
              "      <th>65181</th>\n",
              "      <td>76b36ab5-d090-4197-bed9-129b040ffe66</td>\n",
              "      <td>Pengguna Google</td>\n",
              "      <td>Good</td>\n",
              "    </tr>\n",
              "    <tr>\n",
              "      <th>65182</th>\n",
              "      <td>a87fe15e-0e07-42b3-a7a0-d1bf700ea285</td>\n",
              "      <td>Pengguna Google</td>\n",
              "      <td>Very good .....try it</td>\n",
              "    </tr>\n",
              "    <tr>\n",
              "      <th>65183</th>\n",
              "      <td>46e36186-b5ac-45dd-908c-2ba2a7b3e412</td>\n",
              "      <td>Pengguna Google</td>\n",
              "      <td>manteeeeeeep...</td>\n",
              "    </tr>\n",
              "    <tr>\n",
              "      <th>65184</th>\n",
              "      <td>e4d181bf-0ef5-450a-a146-561b577b996b</td>\n",
              "      <td>Pengguna Google</td>\n",
              "      <td>Fitur Widget Widgetnya dikembanging lagi donk,...</td>\n",
              "    </tr>\n",
              "    <tr>\n",
              "      <th>65185</th>\n",
              "      <td>11f96544-a5c7-4620-a0e0-74916df21506</td>\n",
              "      <td>Pengguna Google</td>\n",
              "      <td>Thx detik..</td>\n",
              "    </tr>\n",
              "  </tbody>\n",
              "</table>\n",
              "</div>\n",
              "      <button class=\"colab-df-convert\" onclick=\"convertToInteractive('df-6c871b02-c23d-4372-a0df-b2ca97765791')\"\n",
              "              title=\"Convert this dataframe to an interactive table.\"\n",
              "              style=\"display:none;\">\n",
              "        \n",
              "  <svg xmlns=\"http://www.w3.org/2000/svg\" height=\"24px\"viewBox=\"0 0 24 24\"\n",
              "       width=\"24px\">\n",
              "    <path d=\"M0 0h24v24H0V0z\" fill=\"none\"/>\n",
              "    <path d=\"M18.56 5.44l.94 2.06.94-2.06 2.06-.94-2.06-.94-.94-2.06-.94 2.06-2.06.94zm-11 1L8.5 8.5l.94-2.06 2.06-.94-2.06-.94L8.5 2.5l-.94 2.06-2.06.94zm10 10l.94 2.06.94-2.06 2.06-.94-2.06-.94-.94-2.06-.94 2.06-2.06.94z\"/><path d=\"M17.41 7.96l-1.37-1.37c-.4-.4-.92-.59-1.43-.59-.52 0-1.04.2-1.43.59L10.3 9.45l-7.72 7.72c-.78.78-.78 2.05 0 2.83L4 21.41c.39.39.9.59 1.41.59.51 0 1.02-.2 1.41-.59l7.78-7.78 2.81-2.81c.8-.78.8-2.07 0-2.86zM5.41 20L4 18.59l7.72-7.72 1.47 1.35L5.41 20z\"/>\n",
              "  </svg>\n",
              "      </button>\n",
              "      \n",
              "  <style>\n",
              "    .colab-df-container {\n",
              "      display:flex;\n",
              "      flex-wrap:wrap;\n",
              "      gap: 12px;\n",
              "    }\n",
              "\n",
              "    .colab-df-convert {\n",
              "      background-color: #E8F0FE;\n",
              "      border: none;\n",
              "      border-radius: 50%;\n",
              "      cursor: pointer;\n",
              "      display: none;\n",
              "      fill: #1967D2;\n",
              "      height: 32px;\n",
              "      padding: 0 0 0 0;\n",
              "      width: 32px;\n",
              "    }\n",
              "\n",
              "    .colab-df-convert:hover {\n",
              "      background-color: #E2EBFA;\n",
              "      box-shadow: 0px 1px 2px rgba(60, 64, 67, 0.3), 0px 1px 3px 1px rgba(60, 64, 67, 0.15);\n",
              "      fill: #174EA6;\n",
              "    }\n",
              "\n",
              "    [theme=dark] .colab-df-convert {\n",
              "      background-color: #3B4455;\n",
              "      fill: #D2E3FC;\n",
              "    }\n",
              "\n",
              "    [theme=dark] .colab-df-convert:hover {\n",
              "      background-color: #434B5C;\n",
              "      box-shadow: 0px 1px 3px 1px rgba(0, 0, 0, 0.15);\n",
              "      filter: drop-shadow(0px 1px 2px rgba(0, 0, 0, 0.3));\n",
              "      fill: #FFFFFF;\n",
              "    }\n",
              "  </style>\n",
              "\n",
              "      <script>\n",
              "        const buttonEl =\n",
              "          document.querySelector('#df-6c871b02-c23d-4372-a0df-b2ca97765791 button.colab-df-convert');\n",
              "        buttonEl.style.display =\n",
              "          google.colab.kernel.accessAllowed ? 'block' : 'none';\n",
              "\n",
              "        async function convertToInteractive(key) {\n",
              "          const element = document.querySelector('#df-6c871b02-c23d-4372-a0df-b2ca97765791');\n",
              "          const dataTable =\n",
              "            await google.colab.kernel.invokeFunction('convertToInteractive',\n",
              "                                                     [key], {});\n",
              "          if (!dataTable) return;\n",
              "\n",
              "          const docLinkHtml = 'Like what you see? Visit the ' +\n",
              "            '<a target=\"_blank\" href=https://colab.research.google.com/notebooks/data_table.ipynb>data table notebook</a>'\n",
              "            + ' to learn more about interactive tables.';\n",
              "          element.innerHTML = '';\n",
              "          dataTable['output_type'] = 'display_data';\n",
              "          await google.colab.output.renderOutput(dataTable, element);\n",
              "          const docLink = document.createElement('div');\n",
              "          docLink.innerHTML = docLinkHtml;\n",
              "          element.appendChild(docLink);\n",
              "        }\n",
              "      </script>\n",
              "    </div>\n",
              "  </div>\n",
              "  "
            ]
          },
          "metadata": {},
          "execution_count": 8
        }
      ]
    },
    {
      "cell_type": "markdown",
      "source": [
        "# Export to CSV"
      ],
      "metadata": {
        "id": "QGLqbZWqHOP_"
      }
    },
    {
      "cell_type": "code",
      "source": [
        "file_name = f'/content/gdrive/MyDrive/Kuliah/Semester 7/AI/UAS/Dataset/raw-detikcom-reviews-{date.today()}-v2.csv'\n",
        "dataset.to_csv(file_name)"
      ],
      "metadata": {
        "id": "lBDdjfvtEzmB"
      },
      "execution_count": null,
      "outputs": []
    },
    {
      "cell_type": "code",
      "source": [],
      "metadata": {
        "id": "F4QCNyBCF3Ch"
      },
      "execution_count": null,
      "outputs": []
    }
  ]
}