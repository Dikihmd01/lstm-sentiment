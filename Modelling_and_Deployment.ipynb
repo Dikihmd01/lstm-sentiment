{
  "nbformat": 4,
  "nbformat_minor": 0,
  "metadata": {
    "colab": {
      "provenance": []
    },
    "kernelspec": {
      "name": "python3",
      "display_name": "Python 3"
    },
    "language_info": {
      "name": "python"
    },
    "accelerator": "GPU",
    "gpuClass": "standard"
  },
  "cells": [
    {
      "cell_type": "markdown",
      "source": [
        "# Import Libraries"
      ],
      "metadata": {
        "id": "kQnM37ZRI0hn"
      }
    },
    {
      "cell_type": "code",
      "execution_count": 1,
      "metadata": {
        "id": "IclznXkDfhhp"
      },
      "outputs": [],
      "source": [
        "import tensorflow as tf\n",
        "import numpy as np\n",
        "import pandas as pd\n",
        "import matplotlib.pyplot as plt\n",
        "import pickle\n",
        "import json\n",
        "import io\n",
        "\n",
        "from sklearn.model_selection import train_test_split\n",
        "from tensorflow.keras.preprocessing.text import Tokenizer\n",
        "from tensorflow.keras.preprocessing.sequence import pad_sequences\n",
        "from keras_preprocessing.text import tokenizer_from_json\n",
        "\n",
        "from tensorflow.keras.layers import Input, Dense, Embedding, LSTM, GlobalMaxPooling1D\n",
        "from tensorflow.keras.models import Model"
      ]
    },
    {
      "cell_type": "code",
      "source": [
        "from google.colab import drive\n",
        "drive.mount('/content/gdrive')"
      ],
      "metadata": {
        "colab": {
          "base_uri": "https://localhost:8080/"
        },
        "id": "jVaw8XW5fv4H",
        "outputId": "f46f4e7a-9315-4096-e617-98309b4d9b3f"
      },
      "execution_count": 2,
      "outputs": [
        {
          "output_type": "stream",
          "name": "stdout",
          "text": [
            "Mounted at /content/gdrive\n"
          ]
        }
      ]
    },
    {
      "cell_type": "markdown",
      "source": [
        "# Read Dataset"
      ],
      "metadata": {
        "id": "DQtBXTGyI6Tj"
      }
    },
    {
      "cell_type": "code",
      "source": [
        "file_name = f'/content/gdrive/MyDrive/Kuliah/Semester 7/AI/UAS/Dataset/labelled-detikcom-reviews-2023-01-31.csv'\n",
        "dataset = pd.read_csv(file_name)\n",
        "dataset.head()"
      ],
      "metadata": {
        "colab": {
          "base_uri": "https://localhost:8080/",
          "height": 206
        },
        "id": "fECj5jXXf0Pz",
        "outputId": "89b3c97c-9548-4a6c-c62c-14693883b146"
      },
      "execution_count": 3,
      "outputs": [
        {
          "output_type": "execute_result",
          "data": {
            "text/plain": [
              "          userName                                            content  \\\n",
              "0    Alamul Alamul                                             berita   \n",
              "1   Cucuk Furianto                                             mantap   \n",
              "2  Benny Wicaksono  selalu yg terdepan terupdate indonesia  sy pen...   \n",
              "3    Admin Sadulur                                             siplaj   \n",
              "4       Aji Brewok                    mantap   berita nya lugas detil   \n",
              "\n",
              "  sentiment  \n",
              "0   neutral  \n",
              "1  positive  \n",
              "2   neutral  \n",
              "3   neutral  \n",
              "4  positive  "
            ],
            "text/html": [
              "\n",
              "  <div id=\"df-e889943f-c870-438b-9b3e-d01e81246d8b\">\n",
              "    <div class=\"colab-df-container\">\n",
              "      <div>\n",
              "<style scoped>\n",
              "    .dataframe tbody tr th:only-of-type {\n",
              "        vertical-align: middle;\n",
              "    }\n",
              "\n",
              "    .dataframe tbody tr th {\n",
              "        vertical-align: top;\n",
              "    }\n",
              "\n",
              "    .dataframe thead th {\n",
              "        text-align: right;\n",
              "    }\n",
              "</style>\n",
              "<table border=\"1\" class=\"dataframe\">\n",
              "  <thead>\n",
              "    <tr style=\"text-align: right;\">\n",
              "      <th></th>\n",
              "      <th>userName</th>\n",
              "      <th>content</th>\n",
              "      <th>sentiment</th>\n",
              "    </tr>\n",
              "  </thead>\n",
              "  <tbody>\n",
              "    <tr>\n",
              "      <th>0</th>\n",
              "      <td>Alamul Alamul</td>\n",
              "      <td>berita</td>\n",
              "      <td>neutral</td>\n",
              "    </tr>\n",
              "    <tr>\n",
              "      <th>1</th>\n",
              "      <td>Cucuk Furianto</td>\n",
              "      <td>mantap</td>\n",
              "      <td>positive</td>\n",
              "    </tr>\n",
              "    <tr>\n",
              "      <th>2</th>\n",
              "      <td>Benny Wicaksono</td>\n",
              "      <td>selalu yg terdepan terupdate indonesia  sy pen...</td>\n",
              "      <td>neutral</td>\n",
              "    </tr>\n",
              "    <tr>\n",
              "      <th>3</th>\n",
              "      <td>Admin Sadulur</td>\n",
              "      <td>siplaj</td>\n",
              "      <td>neutral</td>\n",
              "    </tr>\n",
              "    <tr>\n",
              "      <th>4</th>\n",
              "      <td>Aji Brewok</td>\n",
              "      <td>mantap   berita nya lugas detil</td>\n",
              "      <td>positive</td>\n",
              "    </tr>\n",
              "  </tbody>\n",
              "</table>\n",
              "</div>\n",
              "      <button class=\"colab-df-convert\" onclick=\"convertToInteractive('df-e889943f-c870-438b-9b3e-d01e81246d8b')\"\n",
              "              title=\"Convert this dataframe to an interactive table.\"\n",
              "              style=\"display:none;\">\n",
              "        \n",
              "  <svg xmlns=\"http://www.w3.org/2000/svg\" height=\"24px\"viewBox=\"0 0 24 24\"\n",
              "       width=\"24px\">\n",
              "    <path d=\"M0 0h24v24H0V0z\" fill=\"none\"/>\n",
              "    <path d=\"M18.56 5.44l.94 2.06.94-2.06 2.06-.94-2.06-.94-.94-2.06-.94 2.06-2.06.94zm-11 1L8.5 8.5l.94-2.06 2.06-.94-2.06-.94L8.5 2.5l-.94 2.06-2.06.94zm10 10l.94 2.06.94-2.06 2.06-.94-2.06-.94-.94-2.06-.94 2.06-2.06.94z\"/><path d=\"M17.41 7.96l-1.37-1.37c-.4-.4-.92-.59-1.43-.59-.52 0-1.04.2-1.43.59L10.3 9.45l-7.72 7.72c-.78.78-.78 2.05 0 2.83L4 21.41c.39.39.9.59 1.41.59.51 0 1.02-.2 1.41-.59l7.78-7.78 2.81-2.81c.8-.78.8-2.07 0-2.86zM5.41 20L4 18.59l7.72-7.72 1.47 1.35L5.41 20z\"/>\n",
              "  </svg>\n",
              "      </button>\n",
              "      \n",
              "  <style>\n",
              "    .colab-df-container {\n",
              "      display:flex;\n",
              "      flex-wrap:wrap;\n",
              "      gap: 12px;\n",
              "    }\n",
              "\n",
              "    .colab-df-convert {\n",
              "      background-color: #E8F0FE;\n",
              "      border: none;\n",
              "      border-radius: 50%;\n",
              "      cursor: pointer;\n",
              "      display: none;\n",
              "      fill: #1967D2;\n",
              "      height: 32px;\n",
              "      padding: 0 0 0 0;\n",
              "      width: 32px;\n",
              "    }\n",
              "\n",
              "    .colab-df-convert:hover {\n",
              "      background-color: #E2EBFA;\n",
              "      box-shadow: 0px 1px 2px rgba(60, 64, 67, 0.3), 0px 1px 3px 1px rgba(60, 64, 67, 0.15);\n",
              "      fill: #174EA6;\n",
              "    }\n",
              "\n",
              "    [theme=dark] .colab-df-convert {\n",
              "      background-color: #3B4455;\n",
              "      fill: #D2E3FC;\n",
              "    }\n",
              "\n",
              "    [theme=dark] .colab-df-convert:hover {\n",
              "      background-color: #434B5C;\n",
              "      box-shadow: 0px 1px 3px 1px rgba(0, 0, 0, 0.15);\n",
              "      filter: drop-shadow(0px 1px 2px rgba(0, 0, 0, 0.3));\n",
              "      fill: #FFFFFF;\n",
              "    }\n",
              "  </style>\n",
              "\n",
              "      <script>\n",
              "        const buttonEl =\n",
              "          document.querySelector('#df-e889943f-c870-438b-9b3e-d01e81246d8b button.colab-df-convert');\n",
              "        buttonEl.style.display =\n",
              "          google.colab.kernel.accessAllowed ? 'block' : 'none';\n",
              "\n",
              "        async function convertToInteractive(key) {\n",
              "          const element = document.querySelector('#df-e889943f-c870-438b-9b3e-d01e81246d8b');\n",
              "          const dataTable =\n",
              "            await google.colab.kernel.invokeFunction('convertToInteractive',\n",
              "                                                     [key], {});\n",
              "          if (!dataTable) return;\n",
              "\n",
              "          const docLinkHtml = 'Like what you see? Visit the ' +\n",
              "            '<a target=\"_blank\" href=https://colab.research.google.com/notebooks/data_table.ipynb>data table notebook</a>'\n",
              "            + ' to learn more about interactive tables.';\n",
              "          element.innerHTML = '';\n",
              "          dataTable['output_type'] = 'display_data';\n",
              "          await google.colab.output.renderOutput(dataTable, element);\n",
              "          const docLink = document.createElement('div');\n",
              "          docLink.innerHTML = docLinkHtml;\n",
              "          element.appendChild(docLink);\n",
              "        }\n",
              "      </script>\n",
              "    </div>\n",
              "  </div>\n",
              "  "
            ]
          },
          "metadata": {},
          "execution_count": 3
        }
      ]
    },
    {
      "cell_type": "markdown",
      "source": [
        "# Data Selection"
      ],
      "metadata": {
        "id": "HQIwdpMFI_Pt"
      }
    },
    {
      "cell_type": "code",
      "source": [
        "dataset.drop('userName', axis=1, inplace=True)\n",
        "dataset.head()"
      ],
      "metadata": {
        "colab": {
          "base_uri": "https://localhost:8080/",
          "height": 206
        },
        "id": "usT4vkccaWtj",
        "outputId": "a356e4a3-c0c3-44bd-d8d1-6aa7b6faa183"
      },
      "execution_count": 4,
      "outputs": [
        {
          "output_type": "execute_result",
          "data": {
            "text/plain": [
              "                                             content sentiment\n",
              "0                                             berita   neutral\n",
              "1                                             mantap  positive\n",
              "2  selalu yg terdepan terupdate indonesia  sy pen...   neutral\n",
              "3                                             siplaj   neutral\n",
              "4                    mantap   berita nya lugas detil  positive"
            ],
            "text/html": [
              "\n",
              "  <div id=\"df-d6b9cfb8-e38a-49ed-9973-b01000adc3a2\">\n",
              "    <div class=\"colab-df-container\">\n",
              "      <div>\n",
              "<style scoped>\n",
              "    .dataframe tbody tr th:only-of-type {\n",
              "        vertical-align: middle;\n",
              "    }\n",
              "\n",
              "    .dataframe tbody tr th {\n",
              "        vertical-align: top;\n",
              "    }\n",
              "\n",
              "    .dataframe thead th {\n",
              "        text-align: right;\n",
              "    }\n",
              "</style>\n",
              "<table border=\"1\" class=\"dataframe\">\n",
              "  <thead>\n",
              "    <tr style=\"text-align: right;\">\n",
              "      <th></th>\n",
              "      <th>content</th>\n",
              "      <th>sentiment</th>\n",
              "    </tr>\n",
              "  </thead>\n",
              "  <tbody>\n",
              "    <tr>\n",
              "      <th>0</th>\n",
              "      <td>berita</td>\n",
              "      <td>neutral</td>\n",
              "    </tr>\n",
              "    <tr>\n",
              "      <th>1</th>\n",
              "      <td>mantap</td>\n",
              "      <td>positive</td>\n",
              "    </tr>\n",
              "    <tr>\n",
              "      <th>2</th>\n",
              "      <td>selalu yg terdepan terupdate indonesia  sy pen...</td>\n",
              "      <td>neutral</td>\n",
              "    </tr>\n",
              "    <tr>\n",
              "      <th>3</th>\n",
              "      <td>siplaj</td>\n",
              "      <td>neutral</td>\n",
              "    </tr>\n",
              "    <tr>\n",
              "      <th>4</th>\n",
              "      <td>mantap   berita nya lugas detil</td>\n",
              "      <td>positive</td>\n",
              "    </tr>\n",
              "  </tbody>\n",
              "</table>\n",
              "</div>\n",
              "      <button class=\"colab-df-convert\" onclick=\"convertToInteractive('df-d6b9cfb8-e38a-49ed-9973-b01000adc3a2')\"\n",
              "              title=\"Convert this dataframe to an interactive table.\"\n",
              "              style=\"display:none;\">\n",
              "        \n",
              "  <svg xmlns=\"http://www.w3.org/2000/svg\" height=\"24px\"viewBox=\"0 0 24 24\"\n",
              "       width=\"24px\">\n",
              "    <path d=\"M0 0h24v24H0V0z\" fill=\"none\"/>\n",
              "    <path d=\"M18.56 5.44l.94 2.06.94-2.06 2.06-.94-2.06-.94-.94-2.06-.94 2.06-2.06.94zm-11 1L8.5 8.5l.94-2.06 2.06-.94-2.06-.94L8.5 2.5l-.94 2.06-2.06.94zm10 10l.94 2.06.94-2.06 2.06-.94-2.06-.94-.94-2.06-.94 2.06-2.06.94z\"/><path d=\"M17.41 7.96l-1.37-1.37c-.4-.4-.92-.59-1.43-.59-.52 0-1.04.2-1.43.59L10.3 9.45l-7.72 7.72c-.78.78-.78 2.05 0 2.83L4 21.41c.39.39.9.59 1.41.59.51 0 1.02-.2 1.41-.59l7.78-7.78 2.81-2.81c.8-.78.8-2.07 0-2.86zM5.41 20L4 18.59l7.72-7.72 1.47 1.35L5.41 20z\"/>\n",
              "  </svg>\n",
              "      </button>\n",
              "      \n",
              "  <style>\n",
              "    .colab-df-container {\n",
              "      display:flex;\n",
              "      flex-wrap:wrap;\n",
              "      gap: 12px;\n",
              "    }\n",
              "\n",
              "    .colab-df-convert {\n",
              "      background-color: #E8F0FE;\n",
              "      border: none;\n",
              "      border-radius: 50%;\n",
              "      cursor: pointer;\n",
              "      display: none;\n",
              "      fill: #1967D2;\n",
              "      height: 32px;\n",
              "      padding: 0 0 0 0;\n",
              "      width: 32px;\n",
              "    }\n",
              "\n",
              "    .colab-df-convert:hover {\n",
              "      background-color: #E2EBFA;\n",
              "      box-shadow: 0px 1px 2px rgba(60, 64, 67, 0.3), 0px 1px 3px 1px rgba(60, 64, 67, 0.15);\n",
              "      fill: #174EA6;\n",
              "    }\n",
              "\n",
              "    [theme=dark] .colab-df-convert {\n",
              "      background-color: #3B4455;\n",
              "      fill: #D2E3FC;\n",
              "    }\n",
              "\n",
              "    [theme=dark] .colab-df-convert:hover {\n",
              "      background-color: #434B5C;\n",
              "      box-shadow: 0px 1px 3px 1px rgba(0, 0, 0, 0.15);\n",
              "      filter: drop-shadow(0px 1px 2px rgba(0, 0, 0, 0.3));\n",
              "      fill: #FFFFFF;\n",
              "    }\n",
              "  </style>\n",
              "\n",
              "      <script>\n",
              "        const buttonEl =\n",
              "          document.querySelector('#df-d6b9cfb8-e38a-49ed-9973-b01000adc3a2 button.colab-df-convert');\n",
              "        buttonEl.style.display =\n",
              "          google.colab.kernel.accessAllowed ? 'block' : 'none';\n",
              "\n",
              "        async function convertToInteractive(key) {\n",
              "          const element = document.querySelector('#df-d6b9cfb8-e38a-49ed-9973-b01000adc3a2');\n",
              "          const dataTable =\n",
              "            await google.colab.kernel.invokeFunction('convertToInteractive',\n",
              "                                                     [key], {});\n",
              "          if (!dataTable) return;\n",
              "\n",
              "          const docLinkHtml = 'Like what you see? Visit the ' +\n",
              "            '<a target=\"_blank\" href=https://colab.research.google.com/notebooks/data_table.ipynb>data table notebook</a>'\n",
              "            + ' to learn more about interactive tables.';\n",
              "          element.innerHTML = '';\n",
              "          dataTable['output_type'] = 'display_data';\n",
              "          await google.colab.output.renderOutput(dataTable, element);\n",
              "          const docLink = document.createElement('div');\n",
              "          docLink.innerHTML = docLinkHtml;\n",
              "          element.appendChild(docLink);\n",
              "        }\n",
              "      </script>\n",
              "    </div>\n",
              "  </div>\n",
              "  "
            ]
          },
          "metadata": {},
          "execution_count": 4
        }
      ]
    },
    {
      "cell_type": "code",
      "source": [
        "list_sentiment = dataset['sentiment'].to_list()\n",
        "sentiment_positive = len([i for i in list_sentiment if i == 'positive'])\n",
        "sentiment_neutral = len([i for i in list_sentiment if i == 'neutral'])\n",
        "sentiment_negative = len([i for i in list_sentiment if i == 'negative'])\n",
        "\n",
        "print(\"Jumlah seluruh data: \", len(list_sentiment))\n",
        "print(\"JUmlah data dengan label positif: \", sentiment_positive)\n",
        "print(\"JUmlah data dengan label negatif: \", sentiment_negative)\n",
        "print(\"JUmlah data dengan label netral: \", sentiment_neutral)"
      ],
      "metadata": {
        "colab": {
          "base_uri": "https://localhost:8080/"
        },
        "id": "Ug-EsLBXREh0",
        "outputId": "0bdff5bc-3d9a-4ddd-9329-690bbdbf88a0"
      },
      "execution_count": 5,
      "outputs": [
        {
          "output_type": "stream",
          "name": "stdout",
          "text": [
            "Jumlah seluruh data:  36977\n",
            "JUmlah data dengan label positif:  11379\n",
            "JUmlah data dengan label negatif:  5631\n",
            "JUmlah data dengan label netral:  19967\n"
          ]
        }
      ]
    },
    {
      "cell_type": "markdown",
      "source": [
        "# Covert Label into Numerical Category"
      ],
      "metadata": {
        "id": "Pa5jN2y1JHvF"
      }
    },
    {
      "cell_type": "code",
      "source": [
        "dataset['content'] = dataset['content'].astype('str')\n",
        "dataset['sentiment'] = dataset['sentiment'].replace(['negative', 'neutral', 'positive'], [0, 1, 2])\n",
        "dataset.head()"
      ],
      "metadata": {
        "id": "7WK0z60ik9Eq",
        "colab": {
          "base_uri": "https://localhost:8080/",
          "height": 206
        },
        "outputId": "c354bc8b-f4a3-4f6c-e502-162c5eefaa75"
      },
      "execution_count": 6,
      "outputs": [
        {
          "output_type": "execute_result",
          "data": {
            "text/plain": [
              "                                             content  sentiment\n",
              "0                                             berita          1\n",
              "1                                             mantap          2\n",
              "2  selalu yg terdepan terupdate indonesia  sy pen...          1\n",
              "3                                             siplaj          1\n",
              "4                    mantap   berita nya lugas detil          2"
            ],
            "text/html": [
              "\n",
              "  <div id=\"df-166d0634-67d6-4434-a843-27f33d7fae3e\">\n",
              "    <div class=\"colab-df-container\">\n",
              "      <div>\n",
              "<style scoped>\n",
              "    .dataframe tbody tr th:only-of-type {\n",
              "        vertical-align: middle;\n",
              "    }\n",
              "\n",
              "    .dataframe tbody tr th {\n",
              "        vertical-align: top;\n",
              "    }\n",
              "\n",
              "    .dataframe thead th {\n",
              "        text-align: right;\n",
              "    }\n",
              "</style>\n",
              "<table border=\"1\" class=\"dataframe\">\n",
              "  <thead>\n",
              "    <tr style=\"text-align: right;\">\n",
              "      <th></th>\n",
              "      <th>content</th>\n",
              "      <th>sentiment</th>\n",
              "    </tr>\n",
              "  </thead>\n",
              "  <tbody>\n",
              "    <tr>\n",
              "      <th>0</th>\n",
              "      <td>berita</td>\n",
              "      <td>1</td>\n",
              "    </tr>\n",
              "    <tr>\n",
              "      <th>1</th>\n",
              "      <td>mantap</td>\n",
              "      <td>2</td>\n",
              "    </tr>\n",
              "    <tr>\n",
              "      <th>2</th>\n",
              "      <td>selalu yg terdepan terupdate indonesia  sy pen...</td>\n",
              "      <td>1</td>\n",
              "    </tr>\n",
              "    <tr>\n",
              "      <th>3</th>\n",
              "      <td>siplaj</td>\n",
              "      <td>1</td>\n",
              "    </tr>\n",
              "    <tr>\n",
              "      <th>4</th>\n",
              "      <td>mantap   berita nya lugas detil</td>\n",
              "      <td>2</td>\n",
              "    </tr>\n",
              "  </tbody>\n",
              "</table>\n",
              "</div>\n",
              "      <button class=\"colab-df-convert\" onclick=\"convertToInteractive('df-166d0634-67d6-4434-a843-27f33d7fae3e')\"\n",
              "              title=\"Convert this dataframe to an interactive table.\"\n",
              "              style=\"display:none;\">\n",
              "        \n",
              "  <svg xmlns=\"http://www.w3.org/2000/svg\" height=\"24px\"viewBox=\"0 0 24 24\"\n",
              "       width=\"24px\">\n",
              "    <path d=\"M0 0h24v24H0V0z\" fill=\"none\"/>\n",
              "    <path d=\"M18.56 5.44l.94 2.06.94-2.06 2.06-.94-2.06-.94-.94-2.06-.94 2.06-2.06.94zm-11 1L8.5 8.5l.94-2.06 2.06-.94-2.06-.94L8.5 2.5l-.94 2.06-2.06.94zm10 10l.94 2.06.94-2.06 2.06-.94-2.06-.94-.94-2.06-.94 2.06-2.06.94z\"/><path d=\"M17.41 7.96l-1.37-1.37c-.4-.4-.92-.59-1.43-.59-.52 0-1.04.2-1.43.59L10.3 9.45l-7.72 7.72c-.78.78-.78 2.05 0 2.83L4 21.41c.39.39.9.59 1.41.59.51 0 1.02-.2 1.41-.59l7.78-7.78 2.81-2.81c.8-.78.8-2.07 0-2.86zM5.41 20L4 18.59l7.72-7.72 1.47 1.35L5.41 20z\"/>\n",
              "  </svg>\n",
              "      </button>\n",
              "      \n",
              "  <style>\n",
              "    .colab-df-container {\n",
              "      display:flex;\n",
              "      flex-wrap:wrap;\n",
              "      gap: 12px;\n",
              "    }\n",
              "\n",
              "    .colab-df-convert {\n",
              "      background-color: #E8F0FE;\n",
              "      border: none;\n",
              "      border-radius: 50%;\n",
              "      cursor: pointer;\n",
              "      display: none;\n",
              "      fill: #1967D2;\n",
              "      height: 32px;\n",
              "      padding: 0 0 0 0;\n",
              "      width: 32px;\n",
              "    }\n",
              "\n",
              "    .colab-df-convert:hover {\n",
              "      background-color: #E2EBFA;\n",
              "      box-shadow: 0px 1px 2px rgba(60, 64, 67, 0.3), 0px 1px 3px 1px rgba(60, 64, 67, 0.15);\n",
              "      fill: #174EA6;\n",
              "    }\n",
              "\n",
              "    [theme=dark] .colab-df-convert {\n",
              "      background-color: #3B4455;\n",
              "      fill: #D2E3FC;\n",
              "    }\n",
              "\n",
              "    [theme=dark] .colab-df-convert:hover {\n",
              "      background-color: #434B5C;\n",
              "      box-shadow: 0px 1px 3px 1px rgba(0, 0, 0, 0.15);\n",
              "      filter: drop-shadow(0px 1px 2px rgba(0, 0, 0, 0.3));\n",
              "      fill: #FFFFFF;\n",
              "    }\n",
              "  </style>\n",
              "\n",
              "      <script>\n",
              "        const buttonEl =\n",
              "          document.querySelector('#df-166d0634-67d6-4434-a843-27f33d7fae3e button.colab-df-convert');\n",
              "        buttonEl.style.display =\n",
              "          google.colab.kernel.accessAllowed ? 'block' : 'none';\n",
              "\n",
              "        async function convertToInteractive(key) {\n",
              "          const element = document.querySelector('#df-166d0634-67d6-4434-a843-27f33d7fae3e');\n",
              "          const dataTable =\n",
              "            await google.colab.kernel.invokeFunction('convertToInteractive',\n",
              "                                                     [key], {});\n",
              "          if (!dataTable) return;\n",
              "\n",
              "          const docLinkHtml = 'Like what you see? Visit the ' +\n",
              "            '<a target=\"_blank\" href=https://colab.research.google.com/notebooks/data_table.ipynb>data table notebook</a>'\n",
              "            + ' to learn more about interactive tables.';\n",
              "          element.innerHTML = '';\n",
              "          dataTable['output_type'] = 'display_data';\n",
              "          await google.colab.output.renderOutput(dataTable, element);\n",
              "          const docLink = document.createElement('div');\n",
              "          docLink.innerHTML = docLinkHtml;\n",
              "          element.appendChild(docLink);\n",
              "        }\n",
              "      </script>\n",
              "    </div>\n",
              "  </div>\n",
              "  "
            ]
          },
          "metadata": {},
          "execution_count": 6
        }
      ]
    },
    {
      "cell_type": "code",
      "source": [
        "dataset.info()"
      ],
      "metadata": {
        "colab": {
          "base_uri": "https://localhost:8080/"
        },
        "id": "beC1TEupjgCZ",
        "outputId": "8453fb5b-4296-4bd0-f026-96739036adf6"
      },
      "execution_count": 7,
      "outputs": [
        {
          "output_type": "stream",
          "name": "stdout",
          "text": [
            "<class 'pandas.core.frame.DataFrame'>\n",
            "RangeIndex: 36977 entries, 0 to 36976\n",
            "Data columns (total 2 columns):\n",
            " #   Column     Non-Null Count  Dtype \n",
            "---  ------     --------------  ----- \n",
            " 0   content    36977 non-null  object\n",
            " 1   sentiment  36977 non-null  int64 \n",
            "dtypes: int64(1), object(1)\n",
            "memory usage: 577.9+ KB\n"
          ]
        }
      ]
    },
    {
      "cell_type": "markdown",
      "source": [
        "# Split Dataset"
      ],
      "metadata": {
        "id": "ZXyLgtTIbdkQ"
      }
    },
    {
      "cell_type": "code",
      "source": [
        "x_train, x_test, y_train, y_test = train_test_split(\n",
        "    dataset['content'].values, dataset['sentiment'].values, test_size=0.2\n",
        ")\n",
        "\n",
        "print(\"Teks ulasan: \", x_train[0])\n",
        "print(\"Sentiment: \", y_train[0])"
      ],
      "metadata": {
        "id": "-ppXlccSh89L",
        "colab": {
          "base_uri": "https://localhost:8080/"
        },
        "outputId": "db1ac0dd-9e47-4c54-9cf5-ef6c37e6ee28"
      },
      "execution_count": 8,
      "outputs": [
        {
          "output_type": "stream",
          "name": "stdout",
          "text": [
            "Teks ulasan:  kadang menggigil baca isi beritanya  \n",
            "Sentiment:  0\n"
          ]
        }
      ]
    },
    {
      "cell_type": "code",
      "source": [
        "train_sentiment_negative = len([i for i in y_train if i == 0])\n",
        "train_sentiment_neutral = len([i for i in y_train if i == 1])\n",
        "train_sentiment_positive = len([i for i in y_train if i == 2])\n",
        "\n",
        "print(\"Jumlah seluruh data: \", len(y_train))\n",
        "print(\"JUmlah sentiment positif pada data training: \", train_sentiment_positive)\n",
        "print(\"JUmlah sentiment negatif pada data training: \", train_sentiment_negative)\n",
        "print(\"JUmlah sentiment netral pada data training: \", train_sentiment_neutral)"
      ],
      "metadata": {
        "colab": {
          "base_uri": "https://localhost:8080/"
        },
        "id": "MGBQKVKMUMwZ",
        "outputId": "5af5512a-538e-4dbf-a17b-112384852ab2"
      },
      "execution_count": 9,
      "outputs": [
        {
          "output_type": "stream",
          "name": "stdout",
          "text": [
            "Jumlah seluruh data:  29581\n",
            "JUmlah sentiment positif pada data training:  9129\n",
            "JUmlah sentiment negatif pada data training:  4504\n",
            "JUmlah sentiment netral pada data training:  15948\n"
          ]
        }
      ]
    },
    {
      "cell_type": "markdown",
      "source": [
        "# Convert String to Integer"
      ],
      "metadata": {
        "id": "wui7PgaAcYAL"
      }
    },
    {
      "cell_type": "code",
      "source": [
        "max_vocab = 20000000\n",
        "tokenizer = Tokenizer(num_words=max_vocab)\n",
        "tokenizer.fit_on_texts(x_train)\n",
        "\n",
        "# check word index\n",
        "word2id = tokenizer.word_index\n",
        "vocab_len = len(word2id) # V\n",
        "\n",
        "print(\"Jumlah vocab pada dataset: \", vocab_len)"
      ],
      "metadata": {
        "colab": {
          "base_uri": "https://localhost:8080/"
        },
        "id": "BdQZiPNiiP86",
        "outputId": "ba4ef7f7-4f3f-4223-b71f-6fbba81b4cba"
      },
      "execution_count": 10,
      "outputs": [
        {
          "output_type": "stream",
          "name": "stdout",
          "text": [
            "Jumlah vocab pada dataset:  15447\n"
          ]
        }
      ]
    },
    {
      "cell_type": "markdown",
      "source": [
        "# Convert Train and Test Sentences into Sequences"
      ],
      "metadata": {
        "id": "i2aXhs2gdGHY"
      }
    },
    {
      "cell_type": "code",
      "source": [
        "train_sequences = tokenizer.texts_to_sequences(x_train)\n",
        "test_sequences = tokenizer.texts_to_sequences(x_test)\n",
        "\n",
        "print(\"Train sequences: \", train_sequences[0])\n",
        "print(\"Test sequences: \", test_sequences[0])"
      ],
      "metadata": {
        "id": "-8ebU72okALd",
        "colab": {
          "base_uri": "https://localhost:8080/"
        },
        "outputId": "5297e59b-b1d9-4754-f6fc-2d3bfc492d2c"
      },
      "execution_count": 11,
      "outputs": [
        {
          "output_type": "stream",
          "name": "stdout",
          "text": [
            "Train sequences:  [72, 6457, 13, 43, 3]\n",
            "Test sequences:  [373, 434, 21, 53, 26, 57, 81]\n"
          ]
        }
      ]
    },
    {
      "cell_type": "code",
      "source": [
        "saved_tokenizer = f'/content/gdrive/MyDrive/Kuliah/Semester 7/AI/UAS/Model/json_tokenizer_v2.json'\n",
        "tokenizer_json = tokenizer.to_json()\n",
        "with io.open(saved_tokenizer, 'w', encoding='utf-8') as f:\n",
        "    f.write(json.dumps(tokenizer_json, ensure_ascii=False))"
      ],
      "metadata": {
        "id": "JnMGanFIb_Vv"
      },
      "execution_count": 12,
      "outputs": []
    },
    {
      "cell_type": "code",
      "source": [
        "train_padded = pad_sequences(train_sequences)\n",
        "train_len = train_padded.shape[1] # T\n",
        "\n",
        "test_padded = pad_sequences(test_sequences, maxlen=train_len)\n",
        "test_len = test_padded.shape[1]\n",
        "\n",
        "print(\"Panjang train sequence: \", train_len)\n",
        "print(\"Panjang test sequence: \", test_len)"
      ],
      "metadata": {
        "colab": {
          "base_uri": "https://localhost:8080/"
        },
        "id": "Npffuaiidz5D",
        "outputId": "50a59637-76eb-4f1a-d8a4-38850b0c3b0d"
      },
      "execution_count": 13,
      "outputs": [
        {
          "output_type": "stream",
          "name": "stdout",
          "text": [
            "Panjang train sequence:  89\n",
            "Panjang test sequence:  89\n"
          ]
        }
      ]
    },
    {
      "cell_type": "markdown",
      "source": [
        "# Model Architecture"
      ],
      "metadata": {
        "id": "X_k4BWMCecH5"
      }
    },
    {
      "cell_type": "code",
      "source": [
        "input_layer = Input(shape=(train_len, ))\n",
        "print(input_layer)\n",
        "x = Embedding(vocab_len + 1, 20)(input_layer)\n",
        "x = LSTM(15, return_sequences=True)(x)\n",
        "x = GlobalMaxPooling1D()(x)\n",
        "x = Dense(32, activation='relu')(x)\n",
        "x = Dense(3, activation='softmax')(x)\n",
        "\n",
        "model = Model(input_layer, x)"
      ],
      "metadata": {
        "colab": {
          "base_uri": "https://localhost:8080/"
        },
        "id": "u4EY7u5EsLEs",
        "outputId": "6de34671-16f5-4e64-fd79-3d8bfee3cbda"
      },
      "execution_count": 14,
      "outputs": [
        {
          "output_type": "stream",
          "name": "stdout",
          "text": [
            "KerasTensor(type_spec=TensorSpec(shape=(None, 89), dtype=tf.float32, name='input_1'), name='input_1', description=\"created by layer 'input_1'\")\n"
          ]
        }
      ]
    },
    {
      "cell_type": "code",
      "source": [
        "model.compile(\n",
        "    optimizer='adam',\n",
        "    loss='sparse_categorical_crossentropy',\n",
        "    metrics=['accuracy']\n",
        ")\n",
        "\n",
        "model.summary()"
      ],
      "metadata": {
        "colab": {
          "base_uri": "https://localhost:8080/"
        },
        "id": "K_dbbSdZgfyv",
        "outputId": "21e70a07-36b7-45d7-d161-2862a2b20383"
      },
      "execution_count": 15,
      "outputs": [
        {
          "output_type": "stream",
          "name": "stdout",
          "text": [
            "Model: \"model\"\n",
            "_________________________________________________________________\n",
            " Layer (type)                Output Shape              Param #   \n",
            "=================================================================\n",
            " input_1 (InputLayer)        [(None, 89)]              0         \n",
            "                                                                 \n",
            " embedding (Embedding)       (None, 89, 20)            308960    \n",
            "                                                                 \n",
            " lstm (LSTM)                 (None, 89, 15)            2160      \n",
            "                                                                 \n",
            " global_max_pooling1d (Globa  (None, 15)               0         \n",
            " lMaxPooling1D)                                                  \n",
            "                                                                 \n",
            " dense (Dense)               (None, 32)                512       \n",
            "                                                                 \n",
            " dense_1 (Dense)             (None, 3)                 99        \n",
            "                                                                 \n",
            "=================================================================\n",
            "Total params: 311,731\n",
            "Trainable params: 311,731\n",
            "Non-trainable params: 0\n",
            "_________________________________________________________________\n"
          ]
        }
      ]
    },
    {
      "cell_type": "code",
      "source": [
        "import tensorflow as tf\n",
        "\n",
        "tf.keras.utils.plot_model(\n",
        "    model,\n",
        "    to_file='model.png',\n",
        "    show_shapes=False,\n",
        "    show_dtype=False,\n",
        "    show_layer_names=True,\n",
        "    rankdir='TB',\n",
        "    expand_nested=False,\n",
        "    dpi=96,\n",
        "    layer_range=None,\n",
        "    show_layer_activations=False\n",
        ")"
      ],
      "metadata": {
        "colab": {
          "base_uri": "https://localhost:8080/",
          "height": 564
        },
        "id": "BrVDs_CMV0-W",
        "outputId": "bdf8b289-befa-4ecc-b06a-5e735060a323"
      },
      "execution_count": 16,
      "outputs": [
        {
          "output_type": "execute_result",
          "data": {
            "image/png": "[encoded data removed]",
            "text/plain": [
              "<IPython.core.display.Image object>"
            ]
          },
          "metadata": {},
          "execution_count": 16
        }
      ]
    },
    {
      "cell_type": "markdown",
      "source": [
        "# Implement Callbakcs"
      ],
      "metadata": {
        "id": "fMclLnHHJVOU"
      }
    },
    {
      "cell_type": "code",
      "source": [
        "class setCallback(tf.keras.callbacks.Callback):\n",
        "    def on_epoch_end(self, epoch, logs={}):\n",
        "        if logs.get('accuracy') > 0.95 and logs.get('val_accuracy') > 0.95:\n",
        "            print(\"\\nAccuracy is more than 95% so stop training!\")\n",
        "            self.model.stop_training = True\n",
        "\n",
        "callbacks = setCallback()"
      ],
      "metadata": {
        "id": "5e2p9Qb9iylV"
      },
      "execution_count": 17,
      "outputs": []
    },
    {
      "cell_type": "markdown",
      "source": [
        "# Training Model"
      ],
      "metadata": {
        "id": "Y_5G8AymJYu2"
      }
    },
    {
      "cell_type": "code",
      "source": [
        "history = model.fit(\n",
        "    train_padded,\n",
        "    y_train,\n",
        "    validation_data=(test_padded, y_test),\n",
        "    epochs=20,\n",
        "    callbacks=[callbacks]\n",
        ")"
      ],
      "metadata": {
        "colab": {
          "base_uri": "https://localhost:8080/"
        },
        "id": "7kimEP1ogwq5",
        "outputId": "b50b2950-5a62-4758-8759-c90beb5180a7"
      },
      "execution_count": 18,
      "outputs": [
        {
          "output_type": "stream",
          "name": "stdout",
          "text": [
            "Epoch 1/20\n",
            "925/925 [==============================] - 15s 9ms/step - loss: 0.4477 - accuracy: 0.8320 - val_loss: 0.1711 - val_accuracy: 0.9528\n",
            "Epoch 2/20\n",
            "919/925 [============================>.] - ETA: 0s - loss: 0.0955 - accuracy: 0.9714\n",
            "Accuracy is more than 95% so stop training!\n",
            "925/925 [==============================] - 7s 8ms/step - loss: 0.0954 - accuracy: 0.9714 - val_loss: 0.1192 - val_accuracy: 0.9662\n"
          ]
        }
      ]
    },
    {
      "cell_type": "markdown",
      "source": [
        "# Evaluation"
      ],
      "metadata": {
        "id": "02IYMN4QjQKe"
      }
    },
    {
      "cell_type": "code",
      "source": [
        "score = model.evaluate(test_padded, y_test)\n",
        "print(\"Model accuracy: \", score[1])"
      ],
      "metadata": {
        "colab": {
          "base_uri": "https://localhost:8080/"
        },
        "id": "JU8DhpyvWS4t",
        "outputId": "c6139477-fa16-4109-f44d-3ff013354e26"
      },
      "execution_count": 35,
      "outputs": [
        {
          "output_type": "stream",
          "name": "stdout",
          "text": [
            "232/232 [==============================] - 1s 5ms/step - loss: 0.1192 - accuracy: 0.9662\n",
            "Model accuracy:  0.9661979675292969\n"
          ]
        }
      ]
    },
    {
      "cell_type": "code",
      "source": [
        "plt.plot(history.history['loss'], label='loss')\n",
        "plt.plot(history.history['val_loss'], label='val_loss')\n",
        "plt.legend()"
      ],
      "metadata": {
        "colab": {
          "base_uri": "https://localhost:8080/",
          "height": 282
        },
        "id": "E_ewW-iBi7xR",
        "outputId": "3169e2d8-c34f-412a-a793-cf88049b5eb7"
      },
      "execution_count": 36,
      "outputs": [
        {
          "output_type": "execute_result",
          "data": {
            "text/plain": [
              "<matplotlib.legend.Legend at 0x7fbadf32a130>"
            ]
          },
          "metadata": {},
          "execution_count": 36
        },
        {
          "output_type": "display_data",
          "data": {
            "text/plain": [
              "<Figure size 432x288 with 1 Axes>"
            ],
            "image/png": "[encoded data removed]"
          },
          "metadata": {
            "needs_background": "light"
          }
        }
      ]
    },
    {
      "cell_type": "code",
      "source": [
        "plt.plot(history.history['accuracy'], label='acc')\n",
        "plt.plot(history.history['val_accuracy'], label='val_acc')\n",
        "plt.legend()"
      ],
      "metadata": {
        "id": "rt9jQ0n7X3Gm",
        "outputId": "ec0800fa-18ce-4237-d9fc-ff2a9fec3c14",
        "colab": {
          "base_uri": "https://localhost:8080/",
          "height": 282
        }
      },
      "execution_count": 37,
      "outputs": [
        {
          "output_type": "execute_result",
          "data": {
            "text/plain": [
              "<matplotlib.legend.Legend at 0x7fbadf12e790>"
            ]
          },
          "metadata": {},
          "execution_count": 37
        },
        {
          "output_type": "display_data",
          "data": {
            "text/plain": [
              "<Figure size 432x288 with 1 Axes>"
            ],
            "image/png": "[encoded data removed]"
          },
          "metadata": {
            "needs_background": "light"
          }
        }
      ]
    },
    {
      "cell_type": "markdown",
      "source": [
        "# Model Testing"
      ],
      "metadata": {
        "id": "rmSE2BswJcfQ"
      }
    },
    {
      "cell_type": "code",
      "source": [
        "def predict(text):\n",
        "    text_sequence = tokenizer.texts_to_sequences(text)\n",
        "    text_padded = pad_sequences(text_sequence, maxlen=train_len)\n",
        "\n",
        "    predicted = model.predict(text_padded).round()        \n",
        "\n",
        "    print(predicted)\n",
        "\n",
        "    if predicted[0][0] == 1.:\n",
        "        return \"negative\"\n",
        "    elif predicted[0][1] == 1.:\n",
        "        return \"neutral\"\n",
        "    elif predicted[0][2] == 1.:\n",
        "        return \"positif\"\n",
        "\n",
        "text = ['aplkasi ini buruk, bintang 1']\n",
        "print(predict(text))"
      ],
      "metadata": {
        "colab": {
          "base_uri": "https://localhost:8080/"
        },
        "id": "sC9l8oK2jl1t",
        "outputId": "184df7b8-821c-48b9-8849-2e3006a04db6"
      },
      "execution_count": 38,
      "outputs": [
        {
          "output_type": "stream",
          "name": "stdout",
          "text": [
            "1/1 [==============================] - 0s 340ms/step\n",
            "[[1. 0. 0.]]\n",
            "negative\n"
          ]
        }
      ]
    },
    {
      "cell_type": "markdown",
      "source": [
        "# Save the Model"
      ],
      "metadata": {
        "id": "9VkeSMRJmn8P"
      }
    },
    {
      "cell_type": "code",
      "source": [
        "file_name = f'/content/gdrive/MyDrive/Kuliah/Semester 7/AI/UAS/Model/model_v3.h5'\n",
        "model.save(file_name)"
      ],
      "metadata": {
        "id": "HFK9ZO-Ump8A"
      },
      "execution_count": 39,
      "outputs": []
    },
    {
      "cell_type": "code",
      "source": [
        "# file_name = f'/content/gdrive/MyDrive/Kuliah/Semester 7/AI/UAS/Model/model_v1.pkl'\n",
        "from keras.models import load_model\n",
        "model_path = f'/content/gdrive/MyDrive/Kuliah/Semester 7/AI/UAS/Model/model_v3.h5'\n",
        "# test_model = pickle.load(open(file_name, 'rb'))\n",
        "test_model = load_model(model_path)"
      ],
      "metadata": {
        "id": "jCpsQ3ClvXgx"
      },
      "execution_count": 40,
      "outputs": []
    },
    {
      "cell_type": "code",
      "source": [
        "test_model.summary()"
      ],
      "metadata": {
        "colab": {
          "base_uri": "https://localhost:8080/"
        },
        "id": "G1qZhYYgdeuT",
        "outputId": "94b28fdf-383e-47ba-fb82-2d4c1abf4bc9"
      },
      "execution_count": 41,
      "outputs": [
        {
          "output_type": "stream",
          "name": "stdout",
          "text": [
            "Model: \"model\"\n",
            "_________________________________________________________________\n",
            " Layer (type)                Output Shape              Param #   \n",
            "=================================================================\n",
            " input_1 (InputLayer)        [(None, 89)]              0         \n",
            "                                                                 \n",
            " embedding (Embedding)       (None, 89, 20)            308960    \n",
            "                                                                 \n",
            " lstm (LSTM)                 (None, 89, 15)            2160      \n",
            "                                                                 \n",
            " global_max_pooling1d (Globa  (None, 15)               0         \n",
            " lMaxPooling1D)                                                  \n",
            "                                                                 \n",
            " dense (Dense)               (None, 32)                512       \n",
            "                                                                 \n",
            " dense_1 (Dense)             (None, 3)                 99        \n",
            "                                                                 \n",
            "=================================================================\n",
            "Total params: 311,731\n",
            "Trainable params: 311,731\n",
            "Non-trainable params: 0\n",
            "_________________________________________________________________\n"
          ]
        }
      ]
    },
    {
      "cell_type": "code",
      "source": [
        "with open('/content/gdrive/MyDrive/Kuliah/Semester 7/AI/UAS/Model/json_tokenizer.json') as f:\n",
        "    data = json.load(f)\n",
        "    loaded_tokenizer = tokenizer_from_json(data)"
      ],
      "metadata": {
        "id": "yw2O2aXVdo6O"
      },
      "execution_count": 42,
      "outputs": []
    },
    {
      "cell_type": "code",
      "source": [
        "def prediction(text):\n",
        "    # # tokenizer1 = Tokenizer(num_words=2000000)\n",
        "    # # tokenizer1.fit_on_texts(text)\n",
        "    text_sequence = loaded_tokenizer.texts_to_sequences(text)\n",
        "    text_padded = pad_sequences(text_sequence, maxlen=89)\n",
        "\n",
        "    predicted = test_model.predict(text_padded).round()        \n",
        "\n",
        "    print(predicted)\n",
        "\n",
        "    if predicted[0][0] == 1.:\n",
        "        return \"negative\"\n",
        "    elif predicted[0][1] == 1.:\n",
        "        return \"neutral\"\n",
        "    elif predicted[0][2] == 1.:\n",
        "        return \"positif\"\n",
        "\n",
        "sample1 = ['aplkasi ini buruk, bintang 1']\n",
        "print(prediction(sample1))"
      ],
      "metadata": {
        "colab": {
          "base_uri": "https://localhost:8080/"
        },
        "id": "nbbWLBfgv3ad",
        "outputId": "51b90150-3308-475f-b816-f6ddebab9cfa"
      },
      "execution_count": 43,
      "outputs": [
        {
          "output_type": "stream",
          "name": "stdout",
          "text": [
            "1/1 [==============================] - 0s 320ms/step\n",
            "[[0. 1. 0.]]\n",
            "neutral\n"
          ]
        }
      ]
    }
  ]
}